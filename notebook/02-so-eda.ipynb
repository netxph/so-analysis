{
    "cells": [
        {
            "cell_type": "code",
            "execution_count": 1,
            "source": [
                "import sys,os\r\n",
                "sys.path.append(os.path.abspath(os.path.join('..', 'src')))\r\n",
                "\r\n",
                "import pandas as pd\r\n",
                "import numpy as np\r\n",
                "import matplotlib.pyplot as plt\r\n",
                "from utils import *\r\n",
                "from pandas.api.types import CategoricalDtype\r\n",
                "\r\n",
                "%matplotlib inline"
            ],
            "outputs": [],
            "metadata": {}
        },
        {
            "cell_type": "markdown",
            "source": [
                "# StackOverflow 2020 Exploratory Data Analysis"
            ],
            "metadata": {}
        },
        {
            "cell_type": "code",
            "execution_count": 2,
            "source": [
                "df_schema = pd.read_csv(\"../data/processed/so_schema.csv\")\r\n",
                "df_schema.head()"
            ],
            "outputs": [
                {
                    "output_type": "execute_result",
                    "data": {
                        "text/plain": [
                            "         field                                      question_text\n",
                            "0   respondent  Randomized respondent ID number (not in order ...\n",
                            "1  main_branch  Which of the following options best describes ...\n",
                            "2     hobbyist                            Do you code as a hobby?\n",
                            "3          age  What is your age (in years)? If you prefer not...\n",
                            "4  age1st_code  At what age did you write your first line of c..."
                        ],
                        "text/html": [
                            "<div>\n",
                            "<style scoped>\n",
                            "    .dataframe tbody tr th:only-of-type {\n",
                            "        vertical-align: middle;\n",
                            "    }\n",
                            "\n",
                            "    .dataframe tbody tr th {\n",
                            "        vertical-align: top;\n",
                            "    }\n",
                            "\n",
                            "    .dataframe thead th {\n",
                            "        text-align: right;\n",
                            "    }\n",
                            "</style>\n",
                            "<table border=\"1\" class=\"dataframe\">\n",
                            "  <thead>\n",
                            "    <tr style=\"text-align: right;\">\n",
                            "      <th></th>\n",
                            "      <th>field</th>\n",
                            "      <th>question_text</th>\n",
                            "    </tr>\n",
                            "  </thead>\n",
                            "  <tbody>\n",
                            "    <tr>\n",
                            "      <th>0</th>\n",
                            "      <td>respondent</td>\n",
                            "      <td>Randomized respondent ID number (not in order ...</td>\n",
                            "    </tr>\n",
                            "    <tr>\n",
                            "      <th>1</th>\n",
                            "      <td>main_branch</td>\n",
                            "      <td>Which of the following options best describes ...</td>\n",
                            "    </tr>\n",
                            "    <tr>\n",
                            "      <th>2</th>\n",
                            "      <td>hobbyist</td>\n",
                            "      <td>Do you code as a hobby?</td>\n",
                            "    </tr>\n",
                            "    <tr>\n",
                            "      <th>3</th>\n",
                            "      <td>age</td>\n",
                            "      <td>What is your age (in years)? If you prefer not...</td>\n",
                            "    </tr>\n",
                            "    <tr>\n",
                            "      <th>4</th>\n",
                            "      <td>age1st_code</td>\n",
                            "      <td>At what age did you write your first line of c...</td>\n",
                            "    </tr>\n",
                            "  </tbody>\n",
                            "</table>\n",
                            "</div>"
                        ]
                    },
                    "metadata": {},
                    "execution_count": 2
                }
            ],
            "metadata": {}
        },
        {
            "cell_type": "code",
            "execution_count": 3,
            "source": [
                "df = pd.read_csv(\"../data/processed/so_data.csv\")\r\n",
                "df.head()"
            ],
            "outputs": [
                {
                    "output_type": "execute_result",
                    "data": {
                        "text/plain": [
                            "   respondent                                        main_branch hobbyist  \\\n",
                            "0           1                     I am a developer by profession      Yes   \n",
                            "1           2                     I am a developer by profession       No   \n",
                            "2           3                        I code primarily as a hobby      Yes   \n",
                            "3           4                     I am a developer by profession      Yes   \n",
                            "4           5  I used to be a developer by profession, but no...      Yes   \n",
                            "\n",
                            "    age age1st_code comp_freq  comp_total  converted_comp             country  \\\n",
                            "0   NaN          13   Monthly         NaN             NaN             Germany   \n",
                            "1   NaN          19       NaN         NaN             NaN      United Kingdom   \n",
                            "2   NaN          15       NaN         NaN             NaN  Russian Federation   \n",
                            "3  25.0          18       NaN         NaN             NaN             Albania   \n",
                            "4  31.0          16       NaN         NaN             NaN       United States   \n",
                            "\n",
                            "    currency_desc  ...                 survey_ease          survey_length  \\\n",
                            "0   European Euro  ...  Neither easy nor difficult  Appropriate in length   \n",
                            "1  Pound sterling  ...                         NaN                    NaN   \n",
                            "2             NaN  ...  Neither easy nor difficult  Appropriate in length   \n",
                            "3    Albanian lek  ...                         NaN                    NaN   \n",
                            "4             NaN  ...                        Easy              Too short   \n",
                            "\n",
                            "  trans                                    undergrad_major  \\\n",
                            "0    No  Computer science, computer engineering, or sof...   \n",
                            "1   NaN  Computer science, computer engineering, or sof...   \n",
                            "2   NaN                                                NaN   \n",
                            "3    No  Computer science, computer engineering, or sof...   \n",
                            "4    No  Computer science, computer engineering, or sof...   \n",
                            "\n",
                            "  webframe_desire_next_year  webframe_worked_with  \\\n",
                            "0              ASP.NET Core  ASP.NET;ASP.NET Core   \n",
                            "1                       NaN                   NaN   \n",
                            "2                       NaN                   NaN   \n",
                            "3                       NaN                   NaN   \n",
                            "4      Django;Ruby on Rails         Ruby on Rails   \n",
                            "\n",
                            "                             welcome_change work_week_hrs years_code  \\\n",
                            "0   Just as welcome now as I felt last year          50.0         36   \n",
                            "1  Somewhat more welcome now than last year           NaN          7   \n",
                            "2  Somewhat more welcome now than last year           NaN          4   \n",
                            "3  Somewhat less welcome now than last year          40.0          7   \n",
                            "4   Just as welcome now as I felt last year           NaN         15   \n",
                            "\n",
                            "  years_code_pro  \n",
                            "0             27  \n",
                            "1              4  \n",
                            "2            NaN  \n",
                            "3              4  \n",
                            "4              8  \n",
                            "\n",
                            "[5 rows x 61 columns]"
                        ],
                        "text/html": [
                            "<div>\n",
                            "<style scoped>\n",
                            "    .dataframe tbody tr th:only-of-type {\n",
                            "        vertical-align: middle;\n",
                            "    }\n",
                            "\n",
                            "    .dataframe tbody tr th {\n",
                            "        vertical-align: top;\n",
                            "    }\n",
                            "\n",
                            "    .dataframe thead th {\n",
                            "        text-align: right;\n",
                            "    }\n",
                            "</style>\n",
                            "<table border=\"1\" class=\"dataframe\">\n",
                            "  <thead>\n",
                            "    <tr style=\"text-align: right;\">\n",
                            "      <th></th>\n",
                            "      <th>respondent</th>\n",
                            "      <th>main_branch</th>\n",
                            "      <th>hobbyist</th>\n",
                            "      <th>age</th>\n",
                            "      <th>age1st_code</th>\n",
                            "      <th>comp_freq</th>\n",
                            "      <th>comp_total</th>\n",
                            "      <th>converted_comp</th>\n",
                            "      <th>country</th>\n",
                            "      <th>currency_desc</th>\n",
                            "      <th>...</th>\n",
                            "      <th>survey_ease</th>\n",
                            "      <th>survey_length</th>\n",
                            "      <th>trans</th>\n",
                            "      <th>undergrad_major</th>\n",
                            "      <th>webframe_desire_next_year</th>\n",
                            "      <th>webframe_worked_with</th>\n",
                            "      <th>welcome_change</th>\n",
                            "      <th>work_week_hrs</th>\n",
                            "      <th>years_code</th>\n",
                            "      <th>years_code_pro</th>\n",
                            "    </tr>\n",
                            "  </thead>\n",
                            "  <tbody>\n",
                            "    <tr>\n",
                            "      <th>0</th>\n",
                            "      <td>1</td>\n",
                            "      <td>I am a developer by profession</td>\n",
                            "      <td>Yes</td>\n",
                            "      <td>NaN</td>\n",
                            "      <td>13</td>\n",
                            "      <td>Monthly</td>\n",
                            "      <td>NaN</td>\n",
                            "      <td>NaN</td>\n",
                            "      <td>Germany</td>\n",
                            "      <td>European Euro</td>\n",
                            "      <td>...</td>\n",
                            "      <td>Neither easy nor difficult</td>\n",
                            "      <td>Appropriate in length</td>\n",
                            "      <td>No</td>\n",
                            "      <td>Computer science, computer engineering, or sof...</td>\n",
                            "      <td>ASP.NET Core</td>\n",
                            "      <td>ASP.NET;ASP.NET Core</td>\n",
                            "      <td>Just as welcome now as I felt last year</td>\n",
                            "      <td>50.0</td>\n",
                            "      <td>36</td>\n",
                            "      <td>27</td>\n",
                            "    </tr>\n",
                            "    <tr>\n",
                            "      <th>1</th>\n",
                            "      <td>2</td>\n",
                            "      <td>I am a developer by profession</td>\n",
                            "      <td>No</td>\n",
                            "      <td>NaN</td>\n",
                            "      <td>19</td>\n",
                            "      <td>NaN</td>\n",
                            "      <td>NaN</td>\n",
                            "      <td>NaN</td>\n",
                            "      <td>United Kingdom</td>\n",
                            "      <td>Pound sterling</td>\n",
                            "      <td>...</td>\n",
                            "      <td>NaN</td>\n",
                            "      <td>NaN</td>\n",
                            "      <td>NaN</td>\n",
                            "      <td>Computer science, computer engineering, or sof...</td>\n",
                            "      <td>NaN</td>\n",
                            "      <td>NaN</td>\n",
                            "      <td>Somewhat more welcome now than last year</td>\n",
                            "      <td>NaN</td>\n",
                            "      <td>7</td>\n",
                            "      <td>4</td>\n",
                            "    </tr>\n",
                            "    <tr>\n",
                            "      <th>2</th>\n",
                            "      <td>3</td>\n",
                            "      <td>I code primarily as a hobby</td>\n",
                            "      <td>Yes</td>\n",
                            "      <td>NaN</td>\n",
                            "      <td>15</td>\n",
                            "      <td>NaN</td>\n",
                            "      <td>NaN</td>\n",
                            "      <td>NaN</td>\n",
                            "      <td>Russian Federation</td>\n",
                            "      <td>NaN</td>\n",
                            "      <td>...</td>\n",
                            "      <td>Neither easy nor difficult</td>\n",
                            "      <td>Appropriate in length</td>\n",
                            "      <td>NaN</td>\n",
                            "      <td>NaN</td>\n",
                            "      <td>NaN</td>\n",
                            "      <td>NaN</td>\n",
                            "      <td>Somewhat more welcome now than last year</td>\n",
                            "      <td>NaN</td>\n",
                            "      <td>4</td>\n",
                            "      <td>NaN</td>\n",
                            "    </tr>\n",
                            "    <tr>\n",
                            "      <th>3</th>\n",
                            "      <td>4</td>\n",
                            "      <td>I am a developer by profession</td>\n",
                            "      <td>Yes</td>\n",
                            "      <td>25.0</td>\n",
                            "      <td>18</td>\n",
                            "      <td>NaN</td>\n",
                            "      <td>NaN</td>\n",
                            "      <td>NaN</td>\n",
                            "      <td>Albania</td>\n",
                            "      <td>Albanian lek</td>\n",
                            "      <td>...</td>\n",
                            "      <td>NaN</td>\n",
                            "      <td>NaN</td>\n",
                            "      <td>No</td>\n",
                            "      <td>Computer science, computer engineering, or sof...</td>\n",
                            "      <td>NaN</td>\n",
                            "      <td>NaN</td>\n",
                            "      <td>Somewhat less welcome now than last year</td>\n",
                            "      <td>40.0</td>\n",
                            "      <td>7</td>\n",
                            "      <td>4</td>\n",
                            "    </tr>\n",
                            "    <tr>\n",
                            "      <th>4</th>\n",
                            "      <td>5</td>\n",
                            "      <td>I used to be a developer by profession, but no...</td>\n",
                            "      <td>Yes</td>\n",
                            "      <td>31.0</td>\n",
                            "      <td>16</td>\n",
                            "      <td>NaN</td>\n",
                            "      <td>NaN</td>\n",
                            "      <td>NaN</td>\n",
                            "      <td>United States</td>\n",
                            "      <td>NaN</td>\n",
                            "      <td>...</td>\n",
                            "      <td>Easy</td>\n",
                            "      <td>Too short</td>\n",
                            "      <td>No</td>\n",
                            "      <td>Computer science, computer engineering, or sof...</td>\n",
                            "      <td>Django;Ruby on Rails</td>\n",
                            "      <td>Ruby on Rails</td>\n",
                            "      <td>Just as welcome now as I felt last year</td>\n",
                            "      <td>NaN</td>\n",
                            "      <td>15</td>\n",
                            "      <td>8</td>\n",
                            "    </tr>\n",
                            "  </tbody>\n",
                            "</table>\n",
                            "<p>5 rows × 61 columns</p>\n",
                            "</div>"
                        ]
                    },
                    "metadata": {},
                    "execution_count": 3
                }
            ],
            "metadata": {}
        },
        {
            "cell_type": "code",
            "execution_count": 4,
            "source": [
                "df.info()"
            ],
            "outputs": [
                {
                    "output_type": "stream",
                    "name": "stdout",
                    "text": [
                        "<class 'pandas.core.frame.DataFrame'>\n",
                        "RangeIndex: 64461 entries, 0 to 64460\n",
                        "Data columns (total 61 columns):\n",
                        " #   Column                             Non-Null Count  Dtype  \n",
                        "---  ------                             --------------  -----  \n",
                        " 0   respondent                         64461 non-null  int64  \n",
                        " 1   main_branch                        64162 non-null  object \n",
                        " 2   hobbyist                           64416 non-null  object \n",
                        " 3   age                                45446 non-null  float64\n",
                        " 4   age1st_code                        57900 non-null  object \n",
                        " 5   comp_freq                          40069 non-null  object \n",
                        " 6   comp_total                         34826 non-null  float64\n",
                        " 7   converted_comp                     34756 non-null  float64\n",
                        " 8   country                            64072 non-null  object \n",
                        " 9   currency_desc                      45472 non-null  object \n",
                        " 10  currency_symbol                    45472 non-null  object \n",
                        " 11  database_desire_next_year          44070 non-null  object \n",
                        " 12  database_worked_with               49537 non-null  object \n",
                        " 13  dev_type                           49370 non-null  object \n",
                        " 14  ed_level                           57431 non-null  object \n",
                        " 15  employment                         63854 non-null  object \n",
                        " 16  ethnicity                          45948 non-null  object \n",
                        " 17  gender                             50557 non-null  object \n",
                        " 18  job_factors                        49349 non-null  object \n",
                        " 19  job_sat                            45194 non-null  object \n",
                        " 20  job_seek                           51727 non-null  object \n",
                        " 21  language_desire_next_year          54113 non-null  object \n",
                        " 22  language_worked_with               57378 non-null  object \n",
                        " 23  misc_tech_desire_next_year         42379 non-null  object \n",
                        " 24  misc_tech_worked_with              40314 non-null  object \n",
                        " 25  new_collab_tools_desire_next_year  47287 non-null  object \n",
                        " 26  new_collab_tools_worked_with       52883 non-null  object \n",
                        " 27  new_dev_ops                        42686 non-null  object \n",
                        " 28  new_dev_ops_impt                   41732 non-null  object \n",
                        " 29  new_ed_impt                        48465 non-null  object \n",
                        " 30  new_job_hunt                       42286 non-null  object \n",
                        " 31  new_job_hunt_research              41022 non-null  object \n",
                        " 32  new_learn                          56156 non-null  object \n",
                        " 33  new_off_topic                      50804 non-null  object \n",
                        " 34  new_onboard_good                   42623 non-null  object \n",
                        " 35  new_other_comms                    57205 non-null  object \n",
                        " 36  new_overtime                       43231 non-null  object \n",
                        " 37  new_purchase_research              37321 non-null  object \n",
                        " 38  new_purple_link                    54803 non-null  object \n",
                        " 39  newso_sites                        58275 non-null  object \n",
                        " 40  new_stuck                          54983 non-null  object \n",
                        " 41  op_sys                             56228 non-null  object \n",
                        " 42  org_size                           44334 non-null  object \n",
                        " 43  platform_desire_next_year          50605 non-null  object \n",
                        " 44  platform_worked_with               53843 non-null  object \n",
                        " 45  purchase_what                      39364 non-null  object \n",
                        " 46  sexuality                          43992 non-null  object \n",
                        " 47  so_account                         56805 non-null  object \n",
                        " 48  so_comm                            56476 non-null  object \n",
                        " 49  so_part_freq                       46792 non-null  object \n",
                        " 50  so_visit_freq                      56970 non-null  object \n",
                        " 51  survey_ease                        51802 non-null  object \n",
                        " 52  survey_length                      51701 non-null  object \n",
                        " 53  trans                              49345 non-null  object \n",
                        " 54  undergrad_major                    50995 non-null  object \n",
                        " 55  webframe_desire_next_year          40024 non-null  object \n",
                        " 56  webframe_worked_with               42279 non-null  object \n",
                        " 57  welcome_change                     52683 non-null  object \n",
                        " 58  work_week_hrs                      41151 non-null  float64\n",
                        " 59  years_code                         57684 non-null  object \n",
                        " 60  years_code_pro                     46349 non-null  object \n",
                        "dtypes: float64(4), int64(1), object(56)\n",
                        "memory usage: 30.0+ MB\n"
                    ]
                }
            ],
            "metadata": {}
        },
        {
            "cell_type": "markdown",
            "source": [
                "## Examine Job Satisfaction"
            ],
            "metadata": {}
        },
        {
            "cell_type": "code",
            "execution_count": 5,
            "source": [
                "sat_type = CategoricalDtype(categories=[\"Very satisfied\", \"Slightly satisfied\", \"Neither satisfied nor dissatisfied\", \"Slightly dissatisfied\", \"Very dissatisfied\"], ordered=True)\r\n",
                "df.job_sat = df.job_sat.astype(sat_type)\r\n",
                "\r\n",
                "df.job_sat.dtype"
            ],
            "outputs": [
                {
                    "output_type": "execute_result",
                    "data": {
                        "text/plain": [
                            "CategoricalDtype(categories=['Very satisfied', 'Slightly satisfied',\n",
                            "                  'Neither satisfied nor dissatisfied',\n",
                            "                  'Slightly dissatisfied', 'Very dissatisfied'],\n",
                            ", ordered=True)"
                        ]
                    },
                    "metadata": {},
                    "execution_count": 5
                }
            ],
            "metadata": {}
        },
        {
            "cell_type": "code",
            "execution_count": 15,
            "source": [
                "df.job_sat.value_counts()"
            ],
            "outputs": [
                {
                    "output_type": "execute_result",
                    "data": {
                        "text/plain": [
                            "Very satisfied                        14611\n",
                            "Slightly satisfied                    13930\n",
                            "Slightly dissatisfied                  7124\n",
                            "Neither satisfied nor dissatisfied     5783\n",
                            "Very dissatisfied                      3746\n",
                            "Name: job_sat, dtype: int64"
                        ]
                    },
                    "metadata": {},
                    "execution_count": 15
                }
            ],
            "metadata": {}
        },
        {
            "cell_type": "code",
            "execution_count": 21,
            "source": [
                "df.job_sat.value_counts().sort_index().plot(kind='bar');"
            ],
            "outputs": [
                {
                    "output_type": "display_data",
                    "data": {
                        "text/plain": [
                            "<Figure size 432x288 with 1 Axes>"
                        ],
                        "image/png": "[encoded data removed]"
                    },
                    "metadata": {
                        "needs_background": "light"
                    }
                }
            ],
            "metadata": {}
        },
        {
            "cell_type": "markdown",
            "source": [
                "Majority of the respondents are somewhat satisfied with their current job."
            ],
            "metadata": {}
        },
        {
            "cell_type": "markdown",
            "source": [
                "### Explore Null Job Satisfaction"
            ],
            "metadata": {}
        },
        {
            "cell_type": "code",
            "execution_count": 19,
            "source": [
                "missing_js = df.job_sat.isnull().sum()\r\n",
                "print(f\"{missing_js} missing values for Job Satisfaction\")"
            ],
            "outputs": [
                {
                    "output_type": "stream",
                    "name": "stdout",
                    "text": [
                        "19267 missing values for Job Satisfaction\n"
                    ]
                }
            ],
            "metadata": {}
        },
        {
            "cell_type": "code",
            "execution_count": 7,
            "source": [
                "df[df.job_sat.isnull()][[\"job_sat\",\"dev_type\", \"job_factors\", \"job_seek\", \"employment\"]]"
            ],
            "outputs": [
                {
                    "output_type": "execute_result",
                    "data": {
                        "text/plain": [
                            "      job_sat                                           dev_type  \\\n",
                            "2         NaN                                                NaN   \n",
                            "4         NaN                                                NaN   \n",
                            "14        NaN                                                NaN   \n",
                            "20        NaN                                                NaN   \n",
                            "26        NaN  Database administrator;Developer, full-stack;E...   \n",
                            "...       ...                                                ...   \n",
                            "64456     NaN                                Senior executive/VP   \n",
                            "64457     NaN                                                NaN   \n",
                            "64458     NaN                                                NaN   \n",
                            "64459     NaN                                                NaN   \n",
                            "64460     NaN                                                NaN   \n",
                            "\n",
                            "                                             job_factors  \\\n",
                            "2                                                    NaN   \n",
                            "4                                                    NaN   \n",
                            "14     Languages, frameworks, and other technologies ...   \n",
                            "20     Languages, frameworks, and other technologies ...   \n",
                            "26                                                   NaN   \n",
                            "...                                                  ...   \n",
                            "64456                                                NaN   \n",
                            "64457                                                NaN   \n",
                            "64458                                                NaN   \n",
                            "64459                                                NaN   \n",
                            "64460                                                NaN   \n",
                            "\n",
                            "                                                job_seek          employment  \n",
                            "2                                                    NaN                 NaN  \n",
                            "4                                                    NaN  Employed full-time  \n",
                            "14     I’m not actively looking, but I am open to new...             Student  \n",
                            "20     I’m not actively looking, but I am open to new...             Student  \n",
                            "26                                                   NaN  Employed full-time  \n",
                            "...                                                  ...                 ...  \n",
                            "64456                                                NaN  Employed full-time  \n",
                            "64457                                                NaN  Employed full-time  \n",
                            "64458                                                NaN                 NaN  \n",
                            "64459                                                NaN  Employed full-time  \n",
                            "64460                                                NaN  Employed full-time  \n",
                            "\n",
                            "[19267 rows x 5 columns]"
                        ],
                        "text/html": [
                            "<div>\n",
                            "<style scoped>\n",
                            "    .dataframe tbody tr th:only-of-type {\n",
                            "        vertical-align: middle;\n",
                            "    }\n",
                            "\n",
                            "    .dataframe tbody tr th {\n",
                            "        vertical-align: top;\n",
                            "    }\n",
                            "\n",
                            "    .dataframe thead th {\n",
                            "        text-align: right;\n",
                            "    }\n",
                            "</style>\n",
                            "<table border=\"1\" class=\"dataframe\">\n",
                            "  <thead>\n",
                            "    <tr style=\"text-align: right;\">\n",
                            "      <th></th>\n",
                            "      <th>job_sat</th>\n",
                            "      <th>dev_type</th>\n",
                            "      <th>job_factors</th>\n",
                            "      <th>job_seek</th>\n",
                            "      <th>employment</th>\n",
                            "    </tr>\n",
                            "  </thead>\n",
                            "  <tbody>\n",
                            "    <tr>\n",
                            "      <th>2</th>\n",
                            "      <td>NaN</td>\n",
                            "      <td>NaN</td>\n",
                            "      <td>NaN</td>\n",
                            "      <td>NaN</td>\n",
                            "      <td>NaN</td>\n",
                            "    </tr>\n",
                            "    <tr>\n",
                            "      <th>4</th>\n",
                            "      <td>NaN</td>\n",
                            "      <td>NaN</td>\n",
                            "      <td>NaN</td>\n",
                            "      <td>NaN</td>\n",
                            "      <td>Employed full-time</td>\n",
                            "    </tr>\n",
                            "    <tr>\n",
                            "      <th>14</th>\n",
                            "      <td>NaN</td>\n",
                            "      <td>NaN</td>\n",
                            "      <td>Languages, frameworks, and other technologies ...</td>\n",
                            "      <td>I’m not actively looking, but I am open to new...</td>\n",
                            "      <td>Student</td>\n",
                            "    </tr>\n",
                            "    <tr>\n",
                            "      <th>20</th>\n",
                            "      <td>NaN</td>\n",
                            "      <td>NaN</td>\n",
                            "      <td>Languages, frameworks, and other technologies ...</td>\n",
                            "      <td>I’m not actively looking, but I am open to new...</td>\n",
                            "      <td>Student</td>\n",
                            "    </tr>\n",
                            "    <tr>\n",
                            "      <th>26</th>\n",
                            "      <td>NaN</td>\n",
                            "      <td>Database administrator;Developer, full-stack;E...</td>\n",
                            "      <td>NaN</td>\n",
                            "      <td>NaN</td>\n",
                            "      <td>Employed full-time</td>\n",
                            "    </tr>\n",
                            "    <tr>\n",
                            "      <th>...</th>\n",
                            "      <td>...</td>\n",
                            "      <td>...</td>\n",
                            "      <td>...</td>\n",
                            "      <td>...</td>\n",
                            "      <td>...</td>\n",
                            "    </tr>\n",
                            "    <tr>\n",
                            "      <th>64456</th>\n",
                            "      <td>NaN</td>\n",
                            "      <td>Senior executive/VP</td>\n",
                            "      <td>NaN</td>\n",
                            "      <td>NaN</td>\n",
                            "      <td>Employed full-time</td>\n",
                            "    </tr>\n",
                            "    <tr>\n",
                            "      <th>64457</th>\n",
                            "      <td>NaN</td>\n",
                            "      <td>NaN</td>\n",
                            "      <td>NaN</td>\n",
                            "      <td>NaN</td>\n",
                            "      <td>Employed full-time</td>\n",
                            "    </tr>\n",
                            "    <tr>\n",
                            "      <th>64458</th>\n",
                            "      <td>NaN</td>\n",
                            "      <td>NaN</td>\n",
                            "      <td>NaN</td>\n",
                            "      <td>NaN</td>\n",
                            "      <td>NaN</td>\n",
                            "    </tr>\n",
                            "    <tr>\n",
                            "      <th>64459</th>\n",
                            "      <td>NaN</td>\n",
                            "      <td>NaN</td>\n",
                            "      <td>NaN</td>\n",
                            "      <td>NaN</td>\n",
                            "      <td>Employed full-time</td>\n",
                            "    </tr>\n",
                            "    <tr>\n",
                            "      <th>64460</th>\n",
                            "      <td>NaN</td>\n",
                            "      <td>NaN</td>\n",
                            "      <td>NaN</td>\n",
                            "      <td>NaN</td>\n",
                            "      <td>Employed full-time</td>\n",
                            "    </tr>\n",
                            "  </tbody>\n",
                            "</table>\n",
                            "<p>19267 rows × 5 columns</p>\n",
                            "</div>"
                        ]
                    },
                    "metadata": {},
                    "execution_count": 7
                }
            ],
            "metadata": {}
        },
        {
            "cell_type": "code",
            "execution_count": 8,
            "source": [
                "df.employment.value_counts()"
            ],
            "outputs": [
                {
                    "output_type": "execute_result",
                    "data": {
                        "text/plain": [
                            "Employed full-time                                      45270\n",
                            "Student                                                  7787\n",
                            "Independent contractor, freelancer, or self-employed     5672\n",
                            "Not employed, but looking for work                       2343\n",
                            "Employed part-time                                       2217\n",
                            "Not employed, and not looking for work                    322\n",
                            "Retired                                                   243\n",
                            "Name: employment, dtype: int64"
                        ]
                    },
                    "metadata": {},
                    "execution_count": 8
                }
            ],
            "metadata": {}
        },
        {
            "cell_type": "code",
            "execution_count": 12,
            "source": [
                "df.employment.value_counts().plot(kind='bar')"
            ],
            "outputs": [
                {
                    "output_type": "execute_result",
                    "data": {
                        "text/plain": [
                            "<AxesSubplot:>"
                        ]
                    },
                    "metadata": {},
                    "execution_count": 12
                },
                {
                    "output_type": "display_data",
                    "data": {
                        "text/plain": [
                            "<Figure size 432x288 with 1 Axes>"
                        ],
                        "image/png": "[encoded data removed]"
                    },
                    "metadata": {
                        "needs_background": "light"
                    }
                }
            ],
            "metadata": {}
        },
        {
            "cell_type": "markdown",
            "source": [
                "**Explore Null Job Satisfaction for Currently Not Employed**"
            ],
            "metadata": {}
        },
        {
            "cell_type": "code",
            "execution_count": 20,
            "source": [
                "unemployed = len(df[df.job_sat.notnull() & df.employment.isin([\"Not employed, and not looking for work\", \"Student\", \"Not employed, but looking for work\", \"Retired\"])])\r\n",
                "\r\n",
                "print(f\"{unemployed} - Number of unemployed with Job Satisfaction\")"
            ],
            "outputs": [
                {
                    "output_type": "stream",
                    "name": "stdout",
                    "text": [
                        "0 - Number of unemployed with Job Satisfaction\n"
                    ]
                }
            ],
            "metadata": {}
        },
        {
            "cell_type": "markdown",
            "source": [
                "### Seeking Job Factors"
            ],
            "metadata": {}
        },
        {
            "cell_type": "markdown",
            "source": [
                "job_seek\r\n",
                "job_factors\r\n",
                "new_job_hunt"
            ],
            "metadata": {}
        },
        {
            "cell_type": "markdown",
            "source": [],
            "metadata": {}
        }
    ],
    "metadata": {
        "orig_nbformat": 4,
        "language_info": {
            "name": "python",
            "version": "3.9.5",
            "mimetype": "text/x-python",
            "codemirror_mode": {
                "name": "ipython",
                "version": 3
            },
            "pygments_lexer": "ipython3",
            "nbconvert_exporter": "python",
            "file_extension": ".py"
        },
        "kernelspec": {
            "name": "python3",
            "display_name": "Python 3.9.5 64-bit ('data-science': conda)"
        },
        "interpreter": {
            "hash": "4eba22650f3e0b6e8c80043e28ba98eb0ba59ef4ef6ee88e97692e7d6ca59f14"
        }
    },
    "nbformat": 4,
    "nbformat_minor": 2
}